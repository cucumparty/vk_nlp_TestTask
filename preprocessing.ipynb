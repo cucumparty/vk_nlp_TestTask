{
  "cells": [
    {
      "cell_type": "markdown",
      "metadata": {
        "id": "umI5jSYOKT2F"
      },
      "source": [
        "# EDA"
      ]
    },
    {
      "cell_type": "code",
      "execution_count": 5,
      "metadata": {
        "colab": {
          "base_uri": "https://localhost:8080/"
        },
        "id": "rAGqoXB7V7KS",
        "outputId": "a9d4aa22-4e8d-4078-e74a-102694d6cbb8"
      },
      "outputs": [],
      "source": [
        "#Скачаем датасет\n",
        "import pandas as pd\n",
        "\n",
        "splits = {'train': 'data/train-00000-of-00001-b42a775f407cee45.parquet', 'validation': 'data/validation-00000-of-00001-134b8fd0c89408b6.parquet'}\n",
        "df = pd.read_parquet(\"hf://datasets/OpenAssistant/oasst1/\" + splits[\"train\"])"
      ]
    },
    {
      "cell_type": "code",
      "execution_count": 4,
      "metadata": {
        "colab": {
          "base_uri": "https://localhost:8080/",
          "height": 539
        },
        "id": "8MkHwMHlV-6B",
        "outputId": "0e2a90bf-64dd-4c6b-9e4b-2478dbca8e99"
      },
      "outputs": [
        {
          "data": {
            "text/html": [
              "<div>\n",
              "<style scoped>\n",
              "    .dataframe tbody tr th:only-of-type {\n",
              "        vertical-align: middle;\n",
              "    }\n",
              "\n",
              "    .dataframe tbody tr th {\n",
              "        vertical-align: top;\n",
              "    }\n",
              "\n",
              "    .dataframe thead th {\n",
              "        text-align: right;\n",
              "    }\n",
              "</style>\n",
              "<table border=\"1\" class=\"dataframe\">\n",
              "  <thead>\n",
              "    <tr style=\"text-align: right;\">\n",
              "      <th></th>\n",
              "      <th>message_id</th>\n",
              "      <th>parent_id</th>\n",
              "      <th>user_id</th>\n",
              "      <th>created_date</th>\n",
              "      <th>text</th>\n",
              "      <th>role</th>\n",
              "      <th>lang</th>\n",
              "      <th>review_count</th>\n",
              "      <th>review_result</th>\n",
              "      <th>deleted</th>\n",
              "      <th>rank</th>\n",
              "      <th>synthetic</th>\n",
              "      <th>model_name</th>\n",
              "      <th>detoxify</th>\n",
              "      <th>message_tree_id</th>\n",
              "      <th>tree_state</th>\n",
              "      <th>emojis</th>\n",
              "      <th>labels</th>\n",
              "    </tr>\n",
              "  </thead>\n",
              "  <tbody>\n",
              "    <tr>\n",
              "      <th>0</th>\n",
              "      <td>6ab24d72-0181-4594-a9cd-deaf170242fb</td>\n",
              "      <td>None</td>\n",
              "      <td>c3fe8c76-fc30-4fa7-b7f8-c492f5967d18</td>\n",
              "      <td>2023-02-05T14:23:50.983374+00:00</td>\n",
              "      <td>Can you write a short introduction about the r...</td>\n",
              "      <td>prompter</td>\n",
              "      <td>en</td>\n",
              "      <td>3</td>\n",
              "      <td>True</td>\n",
              "      <td>False</td>\n",
              "      <td>NaN</td>\n",
              "      <td>False</td>\n",
              "      <td>None</td>\n",
              "      <td>{'toxicity': 0.00044308538781479, 'severe_toxi...</td>\n",
              "      <td>6ab24d72-0181-4594-a9cd-deaf170242fb</td>\n",
              "      <td>ready_for_export</td>\n",
              "      <td>{'name': ['+1', '_skip_reply', '_skip_ranking'...</td>\n",
              "      <td>{'name': ['spam', 'lang_mismatch', 'pii', 'not...</td>\n",
              "    </tr>\n",
              "    <tr>\n",
              "      <th>1</th>\n",
              "      <td>c8e83833-ecbc-44fe-b6db-735228c25a1c</td>\n",
              "      <td>6ab24d72-0181-4594-a9cd-deaf170242fb</td>\n",
              "      <td>2c96e467-66f0-4be7-9693-bda51356a424</td>\n",
              "      <td>2023-02-06T13:50:44.657083+00:00</td>\n",
              "      <td>\"Monopsony\" refers to a market structure where...</td>\n",
              "      <td>assistant</td>\n",
              "      <td>en</td>\n",
              "      <td>3</td>\n",
              "      <td>True</td>\n",
              "      <td>False</td>\n",
              "      <td>0.0</td>\n",
              "      <td>False</td>\n",
              "      <td>None</td>\n",
              "      <td>{'toxicity': 0.00026396565954200923, 'severe_t...</td>\n",
              "      <td>6ab24d72-0181-4594-a9cd-deaf170242fb</td>\n",
              "      <td>ready_for_export</td>\n",
              "      <td>{'name': ['+1', '_skip_labeling'], 'count': [3...</td>\n",
              "      <td>{'name': ['spam', 'fails_task', 'lang_mismatch...</td>\n",
              "    </tr>\n",
              "    <tr>\n",
              "      <th>2</th>\n",
              "      <td>6708c47f-05c9-4346-b3d2-40b2bd24fde4</td>\n",
              "      <td>c8e83833-ecbc-44fe-b6db-735228c25a1c</td>\n",
              "      <td>2c96e467-66f0-4be7-9693-bda51356a424</td>\n",
              "      <td>2023-02-06T18:48:49.391686+00:00</td>\n",
              "      <td>Now explain it to a dog</td>\n",
              "      <td>prompter</td>\n",
              "      <td>en</td>\n",
              "      <td>3</td>\n",
              "      <td>True</td>\n",
              "      <td>False</td>\n",
              "      <td>NaN</td>\n",
              "      <td>False</td>\n",
              "      <td>None</td>\n",
              "      <td>{'toxicity': 0.03648477792739868, 'severe_toxi...</td>\n",
              "      <td>6ab24d72-0181-4594-a9cd-deaf170242fb</td>\n",
              "      <td>ready_for_export</td>\n",
              "      <td>None</td>\n",
              "      <td>{'name': ['spam', 'lang_mismatch', 'pii', 'not...</td>\n",
              "    </tr>\n",
              "    <tr>\n",
              "      <th>3</th>\n",
              "      <td>343ee2d4-87ae-41fd-a768-bdd65959dc4a</td>\n",
              "      <td>6ab24d72-0181-4594-a9cd-deaf170242fb</td>\n",
              "      <td>49ddcb0d-6588-43bd-858d-19c577f12e7b</td>\n",
              "      <td>2023-02-06T13:37:56.044680+00:00</td>\n",
              "      <td>Monopsony is a market structure in which there...</td>\n",
              "      <td>assistant</td>\n",
              "      <td>en</td>\n",
              "      <td>3</td>\n",
              "      <td>True</td>\n",
              "      <td>False</td>\n",
              "      <td>1.0</td>\n",
              "      <td>False</td>\n",
              "      <td>None</td>\n",
              "      <td>{'toxicity': 0.0008866374846547842, 'severe_to...</td>\n",
              "      <td>6ab24d72-0181-4594-a9cd-deaf170242fb</td>\n",
              "      <td>ready_for_export</td>\n",
              "      <td>{'name': ['+1', '_skip_reply', '_skip_labeling...</td>\n",
              "      <td>{'name': ['spam', 'fails_task', 'lang_mismatch...</td>\n",
              "    </tr>\n",
              "    <tr>\n",
              "      <th>4</th>\n",
              "      <td>18145bf4-37fd-4ac0-80f5-6108b5f2b365</td>\n",
              "      <td>343ee2d4-87ae-41fd-a768-bdd65959dc4a</td>\n",
              "      <td>e10e99a0-38ac-4b07-bf5d-4427696e4e0d</td>\n",
              "      <td>2023-02-06T18:52:51.428543+00:00</td>\n",
              "      <td>How can one fight back when a monospony had be...</td>\n",
              "      <td>prompter</td>\n",
              "      <td>en</td>\n",
              "      <td>3</td>\n",
              "      <td>True</td>\n",
              "      <td>False</td>\n",
              "      <td>NaN</td>\n",
              "      <td>False</td>\n",
              "      <td>None</td>\n",
              "      <td>{'toxicity': 0.0009362137061543763, 'severe_to...</td>\n",
              "      <td>6ab24d72-0181-4594-a9cd-deaf170242fb</td>\n",
              "      <td>ready_for_export</td>\n",
              "      <td>{'name': ['+1'], 'count': [1]}</td>\n",
              "      <td>{'name': ['spam', 'lang_mismatch', 'pii', 'not...</td>\n",
              "    </tr>\n",
              "  </tbody>\n",
              "</table>\n",
              "</div>"
            ],
            "text/plain": [
              "                             message_id                             parent_id  \\\n",
              "0  6ab24d72-0181-4594-a9cd-deaf170242fb                                  None   \n",
              "1  c8e83833-ecbc-44fe-b6db-735228c25a1c  6ab24d72-0181-4594-a9cd-deaf170242fb   \n",
              "2  6708c47f-05c9-4346-b3d2-40b2bd24fde4  c8e83833-ecbc-44fe-b6db-735228c25a1c   \n",
              "3  343ee2d4-87ae-41fd-a768-bdd65959dc4a  6ab24d72-0181-4594-a9cd-deaf170242fb   \n",
              "4  18145bf4-37fd-4ac0-80f5-6108b5f2b365  343ee2d4-87ae-41fd-a768-bdd65959dc4a   \n",
              "\n",
              "                                user_id                      created_date  \\\n",
              "0  c3fe8c76-fc30-4fa7-b7f8-c492f5967d18  2023-02-05T14:23:50.983374+00:00   \n",
              "1  2c96e467-66f0-4be7-9693-bda51356a424  2023-02-06T13:50:44.657083+00:00   \n",
              "2  2c96e467-66f0-4be7-9693-bda51356a424  2023-02-06T18:48:49.391686+00:00   \n",
              "3  49ddcb0d-6588-43bd-858d-19c577f12e7b  2023-02-06T13:37:56.044680+00:00   \n",
              "4  e10e99a0-38ac-4b07-bf5d-4427696e4e0d  2023-02-06T18:52:51.428543+00:00   \n",
              "\n",
              "                                                text       role lang  \\\n",
              "0  Can you write a short introduction about the r...   prompter   en   \n",
              "1  \"Monopsony\" refers to a market structure where...  assistant   en   \n",
              "2                            Now explain it to a dog   prompter   en   \n",
              "3  Monopsony is a market structure in which there...  assistant   en   \n",
              "4  How can one fight back when a monospony had be...   prompter   en   \n",
              "\n",
              "   review_count review_result  deleted  rank  synthetic model_name  \\\n",
              "0             3          True    False   NaN      False       None   \n",
              "1             3          True    False   0.0      False       None   \n",
              "2             3          True    False   NaN      False       None   \n",
              "3             3          True    False   1.0      False       None   \n",
              "4             3          True    False   NaN      False       None   \n",
              "\n",
              "                                            detoxify  \\\n",
              "0  {'toxicity': 0.00044308538781479, 'severe_toxi...   \n",
              "1  {'toxicity': 0.00026396565954200923, 'severe_t...   \n",
              "2  {'toxicity': 0.03648477792739868, 'severe_toxi...   \n",
              "3  {'toxicity': 0.0008866374846547842, 'severe_to...   \n",
              "4  {'toxicity': 0.0009362137061543763, 'severe_to...   \n",
              "\n",
              "                        message_tree_id        tree_state  \\\n",
              "0  6ab24d72-0181-4594-a9cd-deaf170242fb  ready_for_export   \n",
              "1  6ab24d72-0181-4594-a9cd-deaf170242fb  ready_for_export   \n",
              "2  6ab24d72-0181-4594-a9cd-deaf170242fb  ready_for_export   \n",
              "3  6ab24d72-0181-4594-a9cd-deaf170242fb  ready_for_export   \n",
              "4  6ab24d72-0181-4594-a9cd-deaf170242fb  ready_for_export   \n",
              "\n",
              "                                              emojis  \\\n",
              "0  {'name': ['+1', '_skip_reply', '_skip_ranking'...   \n",
              "1  {'name': ['+1', '_skip_labeling'], 'count': [3...   \n",
              "2                                               None   \n",
              "3  {'name': ['+1', '_skip_reply', '_skip_labeling...   \n",
              "4                     {'name': ['+1'], 'count': [1]}   \n",
              "\n",
              "                                              labels  \n",
              "0  {'name': ['spam', 'lang_mismatch', 'pii', 'not...  \n",
              "1  {'name': ['spam', 'fails_task', 'lang_mismatch...  \n",
              "2  {'name': ['spam', 'lang_mismatch', 'pii', 'not...  \n",
              "3  {'name': ['spam', 'fails_task', 'lang_mismatch...  \n",
              "4  {'name': ['spam', 'lang_mismatch', 'pii', 'not...  "
            ]
          },
          "execution_count": 4,
          "metadata": {},
          "output_type": "execute_result"
        }
      ],
      "source": [
        "df.head()"
      ]
    },
    {
      "cell_type": "code",
      "execution_count": 6,
      "metadata": {
        "id": "2GfGuZMdWNpW"
      },
      "outputs": [],
      "source": [
        "#Выберем только русский язык\n",
        "ru_df = df[df['lang'] == 'ru']"
      ]
    },
    {
      "cell_type": "code",
      "execution_count": 7,
      "metadata": {
        "id": "aJ9eC7WLYxpA"
      },
      "outputs": [],
      "source": [
        "#Необходимое нам начало запроса\n",
        "top_level = ru_df[ru_df['parent_id'].isna()]"
      ]
    },
    {
      "cell_type": "code",
      "execution_count": 10,
      "metadata": {},
      "outputs": [],
      "source": [
        "#Добавим стоблец длина запроса\n",
        "top_level.loc[:, 'text_len'] = top_level['text'].str.len()"
      ]
    },
    {
      "cell_type": "code",
      "execution_count": 11,
      "metadata": {
        "colab": {
          "base_uri": "https://localhost:8080/",
          "height": 504
        },
        "id": "OBX8H7XuJ6jt",
        "outputId": "61d74fa5-99a8-4d1f-984e-fb9dc8fa7308"
      },
      "outputs": [
        {
          "data": {
            "text/html": [
              "<div>\n",
              "<style scoped>\n",
              "    .dataframe tbody tr th:only-of-type {\n",
              "        vertical-align: middle;\n",
              "    }\n",
              "\n",
              "    .dataframe tbody tr th {\n",
              "        vertical-align: top;\n",
              "    }\n",
              "\n",
              "    .dataframe thead th {\n",
              "        text-align: right;\n",
              "    }\n",
              "</style>\n",
              "<table border=\"1\" class=\"dataframe\">\n",
              "  <thead>\n",
              "    <tr style=\"text-align: right;\">\n",
              "      <th></th>\n",
              "      <th>message_id</th>\n",
              "      <th>parent_id</th>\n",
              "      <th>user_id</th>\n",
              "      <th>created_date</th>\n",
              "      <th>text</th>\n",
              "      <th>role</th>\n",
              "      <th>lang</th>\n",
              "      <th>review_count</th>\n",
              "      <th>review_result</th>\n",
              "      <th>deleted</th>\n",
              "      <th>rank</th>\n",
              "      <th>synthetic</th>\n",
              "      <th>model_name</th>\n",
              "      <th>detoxify</th>\n",
              "      <th>message_tree_id</th>\n",
              "      <th>tree_state</th>\n",
              "      <th>emojis</th>\n",
              "      <th>labels</th>\n",
              "      <th>text_len</th>\n",
              "    </tr>\n",
              "  </thead>\n",
              "  <tbody>\n",
              "    <tr>\n",
              "      <th>82</th>\n",
              "      <td>e480f611-0d31-433a-93d2-0e2bc675aa30</td>\n",
              "      <td>None</td>\n",
              "      <td>05a999f8-8219-4584-a3f2-d4b4aec30027</td>\n",
              "      <td>2023-02-06T23:09:05.356836+00:00</td>\n",
              "      <td>Напиши информацию о игре Hytale</td>\n",
              "      <td>prompter</td>\n",
              "      <td>ru</td>\n",
              "      <td>3</td>\n",
              "      <td>True</td>\n",
              "      <td>False</td>\n",
              "      <td>NaN</td>\n",
              "      <td>False</td>\n",
              "      <td>None</td>\n",
              "      <td>{'toxicity': 0.0008757906034588814, 'severe_to...</td>\n",
              "      <td>e480f611-0d31-433a-93d2-0e2bc675aa30</td>\n",
              "      <td>ready_for_export</td>\n",
              "      <td>{'name': ['+1', '_skip_ranking', '_skip_labeli...</td>\n",
              "      <td>{'name': ['spam', 'lang_mismatch', 'pii', 'not...</td>\n",
              "      <td>31</td>\n",
              "    </tr>\n",
              "    <tr>\n",
              "      <th>185</th>\n",
              "      <td>fa8c92d6-6daa-42a3-a2f5-e2e0eb610c41</td>\n",
              "      <td>None</td>\n",
              "      <td>19241e3c-8272-4c3f-afe8-527c005d042c</td>\n",
              "      <td>2023-02-07T14:36:48.863674+00:00</td>\n",
              "      <td>Докончи поговорку, без труда не выловишь и</td>\n",
              "      <td>prompter</td>\n",
              "      <td>ru</td>\n",
              "      <td>3</td>\n",
              "      <td>True</td>\n",
              "      <td>False</td>\n",
              "      <td>NaN</td>\n",
              "      <td>False</td>\n",
              "      <td>None</td>\n",
              "      <td>{'toxicity': 0.0432540699839592, 'severe_toxic...</td>\n",
              "      <td>fa8c92d6-6daa-42a3-a2f5-e2e0eb610c41</td>\n",
              "      <td>ready_for_export</td>\n",
              "      <td>{'name': ['+1', '-1'], 'count': [3, 1]}</td>\n",
              "      <td>{'name': ['spam', 'lang_mismatch', 'pii', 'not...</td>\n",
              "      <td>42</td>\n",
              "    </tr>\n",
              "    <tr>\n",
              "      <th>315</th>\n",
              "      <td>ef69d986-aa2d-4c3e-a122-1910d9625c79</td>\n",
              "      <td>None</td>\n",
              "      <td>6b1efbfa-7c16-47bf-b90c-340ab2b1b7eb</td>\n",
              "      <td>2023-02-08T14:59:45.846381+00:00</td>\n",
              "      <td>У меня угнали машину, что мне делать?</td>\n",
              "      <td>prompter</td>\n",
              "      <td>ru</td>\n",
              "      <td>3</td>\n",
              "      <td>True</td>\n",
              "      <td>False</td>\n",
              "      <td>NaN</td>\n",
              "      <td>False</td>\n",
              "      <td>None</td>\n",
              "      <td>{'toxicity': 0.004925671499222517, 'severe_tox...</td>\n",
              "      <td>ef69d986-aa2d-4c3e-a122-1910d9625c79</td>\n",
              "      <td>ready_for_export</td>\n",
              "      <td>{'name': ['+1', '_skip_reply'], 'count': [4, 1]}</td>\n",
              "      <td>{'name': ['spam', 'lang_mismatch', 'pii', 'not...</td>\n",
              "      <td>37</td>\n",
              "    </tr>\n",
              "    <tr>\n",
              "      <th>327</th>\n",
              "      <td>e321f8f6-01f8-4975-afe6-73db989f538e</td>\n",
              "      <td>None</td>\n",
              "      <td>3c8cde8c-9466-494f-9c36-cbf3c3ac7ecd</td>\n",
              "      <td>2023-02-08T14:19:18.286994+00:00</td>\n",
              "      <td>Какие произведения Булгакова связаны с Иерусал...</td>\n",
              "      <td>prompter</td>\n",
              "      <td>ru</td>\n",
              "      <td>3</td>\n",
              "      <td>True</td>\n",
              "      <td>False</td>\n",
              "      <td>NaN</td>\n",
              "      <td>False</td>\n",
              "      <td>None</td>\n",
              "      <td>{'toxicity': 0.0015869040507823229, 'severe_to...</td>\n",
              "      <td>e321f8f6-01f8-4975-afe6-73db989f538e</td>\n",
              "      <td>ready_for_export</td>\n",
              "      <td>{'name': ['+1', '_skip_reply', '_skip_ranking'...</td>\n",
              "      <td>{'name': ['spam', 'lang_mismatch', 'pii', 'not...</td>\n",
              "      <td>51</td>\n",
              "    </tr>\n",
              "    <tr>\n",
              "      <th>427</th>\n",
              "      <td>5083658c-e251-4259-b180-77afaf907d66</td>\n",
              "      <td>None</td>\n",
              "      <td>05a999f8-8219-4584-a3f2-d4b4aec30027</td>\n",
              "      <td>2023-02-07T15:32:50.130297+00:00</td>\n",
              "      <td>Плюсы и минусы языков программирования C++ и R...</td>\n",
              "      <td>prompter</td>\n",
              "      <td>ru</td>\n",
              "      <td>3</td>\n",
              "      <td>True</td>\n",
              "      <td>False</td>\n",
              "      <td>NaN</td>\n",
              "      <td>False</td>\n",
              "      <td>None</td>\n",
              "      <td>{'toxicity': 0.0003262242244090885, 'severe_to...</td>\n",
              "      <td>5083658c-e251-4259-b180-77afaf907d66</td>\n",
              "      <td>ready_for_export</td>\n",
              "      <td>{'name': ['+1', '_skip_reply'], 'count': [6, 3]}</td>\n",
              "      <td>{'name': ['spam', 'lang_mismatch', 'pii', 'not...</td>\n",
              "      <td>61</td>\n",
              "    </tr>\n",
              "  </tbody>\n",
              "</table>\n",
              "</div>"
            ],
            "text/plain": [
              "                               message_id parent_id  \\\n",
              "82   e480f611-0d31-433a-93d2-0e2bc675aa30      None   \n",
              "185  fa8c92d6-6daa-42a3-a2f5-e2e0eb610c41      None   \n",
              "315  ef69d986-aa2d-4c3e-a122-1910d9625c79      None   \n",
              "327  e321f8f6-01f8-4975-afe6-73db989f538e      None   \n",
              "427  5083658c-e251-4259-b180-77afaf907d66      None   \n",
              "\n",
              "                                  user_id                      created_date  \\\n",
              "82   05a999f8-8219-4584-a3f2-d4b4aec30027  2023-02-06T23:09:05.356836+00:00   \n",
              "185  19241e3c-8272-4c3f-afe8-527c005d042c  2023-02-07T14:36:48.863674+00:00   \n",
              "315  6b1efbfa-7c16-47bf-b90c-340ab2b1b7eb  2023-02-08T14:59:45.846381+00:00   \n",
              "327  3c8cde8c-9466-494f-9c36-cbf3c3ac7ecd  2023-02-08T14:19:18.286994+00:00   \n",
              "427  05a999f8-8219-4584-a3f2-d4b4aec30027  2023-02-07T15:32:50.130297+00:00   \n",
              "\n",
              "                                                  text      role lang  \\\n",
              "82                     Напиши информацию о игре Hytale  prompter   ru   \n",
              "185         Докончи поговорку, без труда не выловишь и  prompter   ru   \n",
              "315              У меня угнали машину, что мне делать?  prompter   ru   \n",
              "327  Какие произведения Булгакова связаны с Иерусал...  prompter   ru   \n",
              "427  Плюсы и минусы языков программирования C++ и R...  prompter   ru   \n",
              "\n",
              "     review_count review_result  deleted  rank  synthetic model_name  \\\n",
              "82              3          True    False   NaN      False       None   \n",
              "185             3          True    False   NaN      False       None   \n",
              "315             3          True    False   NaN      False       None   \n",
              "327             3          True    False   NaN      False       None   \n",
              "427             3          True    False   NaN      False       None   \n",
              "\n",
              "                                              detoxify  \\\n",
              "82   {'toxicity': 0.0008757906034588814, 'severe_to...   \n",
              "185  {'toxicity': 0.0432540699839592, 'severe_toxic...   \n",
              "315  {'toxicity': 0.004925671499222517, 'severe_tox...   \n",
              "327  {'toxicity': 0.0015869040507823229, 'severe_to...   \n",
              "427  {'toxicity': 0.0003262242244090885, 'severe_to...   \n",
              "\n",
              "                          message_tree_id        tree_state  \\\n",
              "82   e480f611-0d31-433a-93d2-0e2bc675aa30  ready_for_export   \n",
              "185  fa8c92d6-6daa-42a3-a2f5-e2e0eb610c41  ready_for_export   \n",
              "315  ef69d986-aa2d-4c3e-a122-1910d9625c79  ready_for_export   \n",
              "327  e321f8f6-01f8-4975-afe6-73db989f538e  ready_for_export   \n",
              "427  5083658c-e251-4259-b180-77afaf907d66  ready_for_export   \n",
              "\n",
              "                                                emojis  \\\n",
              "82   {'name': ['+1', '_skip_ranking', '_skip_labeli...   \n",
              "185            {'name': ['+1', '-1'], 'count': [3, 1]}   \n",
              "315   {'name': ['+1', '_skip_reply'], 'count': [4, 1]}   \n",
              "327  {'name': ['+1', '_skip_reply', '_skip_ranking'...   \n",
              "427   {'name': ['+1', '_skip_reply'], 'count': [6, 3]}   \n",
              "\n",
              "                                                labels  text_len  \n",
              "82   {'name': ['spam', 'lang_mismatch', 'pii', 'not...        31  \n",
              "185  {'name': ['spam', 'lang_mismatch', 'pii', 'not...        42  \n",
              "315  {'name': ['spam', 'lang_mismatch', 'pii', 'not...        37  \n",
              "327  {'name': ['spam', 'lang_mismatch', 'pii', 'not...        51  \n",
              "427  {'name': ['spam', 'lang_mismatch', 'pii', 'not...        61  "
            ]
          },
          "execution_count": 11,
          "metadata": {},
          "output_type": "execute_result"
        }
      ],
      "source": [
        "#Посмотрим на полученную таблицу\n",
        "top_level.head()"
      ]
    },
    {
      "cell_type": "code",
      "execution_count": 12,
      "metadata": {
        "colab": {
          "base_uri": "https://localhost:8080/"
        },
        "id": "t9KpJ2LEZVFK",
        "outputId": "c795298f-aeab-473a-9d1b-83ec08a36b8e"
      },
      "outputs": [
        {
          "data": {
            "text/plain": [
              "np.int64(0)"
            ]
          },
          "execution_count": 12,
          "metadata": {},
          "output_type": "execute_result"
        }
      ],
      "source": [
        "#Проверим есть ли пустые инструкции\n",
        "top_level.text.isna().sum()"
      ]
    },
    {
      "cell_type": "code",
      "execution_count": 13,
      "metadata": {
        "colab": {
          "base_uri": "https://localhost:8080/",
          "height": 335
        },
        "id": "dC-yQ5qCJ-MY",
        "outputId": "b6a9820d-2e54-4a1f-860e-c7d2f9384d0b"
      },
      "outputs": [
        {
          "data": {
            "text/plain": [
              "count     721.000000\n",
              "mean      112.907074\n",
              "std       257.021267\n",
              "min         3.000000\n",
              "25%        33.000000\n",
              "50%        55.000000\n",
              "75%       101.000000\n",
              "max      3714.000000\n",
              "Name: text_len, dtype: float64"
            ]
          },
          "execution_count": 13,
          "metadata": {},
          "output_type": "execute_result"
        }
      ],
      "source": [
        "#Посмотрим информацию о длине запроса\n",
        "top_level.text_len.describe()"
      ]
    },
    {
      "cell_type": "code",
      "execution_count": 14,
      "metadata": {
        "colab": {
          "base_uri": "https://localhost:8080/",
          "height": 210
        },
        "id": "52YLtcxP6fJ3",
        "outputId": "35e523f1-ebf2-4816-c229-d6b21ca42d86"
      },
      "outputs": [
        {
          "data": {
            "text/plain": [
              "review_count\n",
              "3    709\n",
              "4     11\n",
              "5      1\n",
              "Name: count, dtype: int64"
            ]
          },
          "execution_count": 14,
          "metadata": {},
          "output_type": "execute_result"
        }
      ],
      "source": [
        "#Посмотрим информацию о количестве рецензентов\n",
        "top_level.review_count.value_counts()"
      ]
    },
    {
      "cell_type": "code",
      "execution_count": 16,
      "metadata": {},
      "outputs": [],
      "source": [
        "threshold = 0.5\n",
        "def extract_above_threshold_labels(label):\n",
        "    # Извлекаем названия и значения\n",
        "    if label:\n",
        "      names = label['name']\n",
        "      values = label['value']\n",
        "      # Получаем лейблы, которые превышают порог\n",
        "      return [name for name, value in zip(names, values) if value > threshold]\n",
        "def extract_above_threshold_detoxify(label):\n",
        "    return [label for label, value in label.items() if value > threshold]\n",
        "\n",
        "# Применение функции и создание новой колонки\n",
        "top_level.loc[:, 'above_threshold_labels'] = top_level['labels'].apply(extract_above_threshold_labels)\n",
        "top_level.loc[:, 'above_threshold_detoxify'] = top_level['detoxify'].apply(extract_above_threshold_detoxify)"
      ]
    },
    {
      "cell_type": "code",
      "execution_count": 17,
      "metadata": {
        "colab": {
          "base_uri": "https://localhost:8080/",
          "height": 617
        },
        "id": "szVszPZDTQUl",
        "outputId": "082051fc-a3b2-4eb8-f737-cec863870db9"
      },
      "outputs": [
        {
          "data": {
            "text/plain": [
              "above_threshold_labels\n",
              "[quality]                             254\n",
              "[]                                    252\n",
              "[quality, creativity]                 133\n",
              "[creativity]                           32\n",
              "[quality, humor, creativity]           17\n",
              "[quality, humor]                        8\n",
              "[humor]                                 8\n",
              "[humor, creativity]                     7\n",
              "[not_appropriate]                       2\n",
              "[violence]                              2\n",
              "[toxicity]                              1\n",
              "[spam]                                  1\n",
              "[humor, violence]                       1\n",
              "[lang_mismatch, humor, creativity]      1\n",
              "[not_appropriate, creativity]           1\n",
              "[quality, toxicity]                     1\n",
              "Name: count, dtype: int64"
            ]
          },
          "execution_count": 17,
          "metadata": {},
          "output_type": "execute_result"
        }
      ],
      "source": [
        "#Посмотрим на качество запросов\n",
        "top_level['above_threshold_labels'].value_counts()"
      ]
    },
    {
      "cell_type": "code",
      "execution_count": 18,
      "metadata": {
        "colab": {
          "base_uri": "https://localhost:8080/",
          "height": 304
        },
        "id": "62GaV3iEU8PT",
        "outputId": "df3e5d95-a6d5-446c-d8b7-5bc9b964d7d4"
      },
      "outputs": [
        {
          "data": {
            "text/plain": [
              "above_threshold_detoxify\n",
              "[]                             709\n",
              "[toxicity]                       7\n",
              "[toxicity, insult]               2\n",
              "[toxicity, identity_attack]      1\n",
              "[toxicity, sexual_explicit]      1\n",
              "[toxicity, threat]               1\n",
              "Name: count, dtype: int64"
            ]
          },
          "execution_count": 18,
          "metadata": {},
          "output_type": "execute_result"
        }
      ],
      "source": [
        "#Посмотрим на токсичность запросов\n",
        "top_level['above_threshold_detoxify'].value_counts()"
      ]
    },
    {
      "cell_type": "code",
      "execution_count": 20,
      "metadata": {},
      "outputs": [
        {
          "name": "stdout",
          "output_type": "stream",
          "text": [
            "[('the', 66), ('напиши', 61), ('какие', 52), ('почему', 52), ('это', 49), ('1', 43), ('такое', 41), ('привет', 39), ('of', 39), ('to', 38)]\n"
          ]
        }
      ],
      "source": [
        "import pandas as pd\n",
        "import re\n",
        "from collections import Counter\n",
        "import nltk\n",
        "from nltk.corpus import stopwords\n",
        "\n",
        "russian_text = \" \".join(top_level['text'].dropna())\n",
        "\n",
        "# Удаляем все символы, кроме букв и цифр, и приводим слова к нижнему регистру\n",
        "tokens = re.findall(r'\\b\\w+\\b', russian_text.lower())\n",
        "\n",
        "stop_words = set(stopwords.words('russian'))\n",
        "\n",
        "filtered_tokens = [word for word in tokens if word.isalnum() and word not in stop_words]\n",
        "\n",
        "word_freq = Counter(filtered_tokens)\n",
        "\n",
        "print(word_freq.most_common(10))"
      ]
    },
    {
      "cell_type": "code",
      "execution_count": 23,
      "metadata": {
        "colab": {
          "base_uri": "https://localhost:8080/",
          "height": 1000
        },
        "id": "eCICDiksgGOc",
        "outputId": "407ae320-7b13-4d69-fffb-b8a241638d2a"
      },
      "outputs": [
        {
          "data": {
            "image/png": "[encoded data removed]",
            "text/plain": [
              "<Figure size 1200x600 with 1 Axes>"
            ]
          },
          "metadata": {},
          "output_type": "display_data"
        },
        {
          "data": {
            "image/png": "[encoded data removed]",
            "text/plain": [
              "<Figure size 800x400 with 1 Axes>"
            ]
          },
          "metadata": {},
          "output_type": "display_data"
        }
      ],
      "source": [
        "import matplotlib.pyplot as plt\n",
        "\n",
        "top_level = top_level.dropna(subset=['created_date'])\n",
        "\n",
        "# Извлечение года, месяца, дня и дня недели\n",
        "top_level.loc[:, 'year'] = top_level['created_date'].dt.year\n",
        "top_level.loc[:, 'month'] = top_level['created_date'].dt.month\n",
        "top_level.loc[:, 'day'] = top_level['created_date'].dt.day\n",
        "top_level.loc[:, 'day_of_week'] = top_level['created_date'].dt.day_name()\n",
        "\n",
        "# Подсчет сообщений по месяцам\n",
        "monthly_counts = top_level.groupby(['year', 'month']).size()\n",
        "\n",
        "# Визуализация частоты сообщений по месяцам\n",
        "plt.figure(figsize=(12, 6))\n",
        "monthly_counts.plot(kind='line', marker='o')\n",
        "plt.title('Частота сообщений по месяцам')\n",
        "plt.xlabel('Месяц-Год')\n",
        "plt.ylabel('Количество сообщений')\n",
        "plt.xticks(rotation=45, ha='right')  # Угол и выравнивание меток\n",
        "plt.grid()\n",
        "plt.tight_layout()\n",
        "plt.show()\n",
        "\n",
        "# Подсчет сообщений по дням недели\n",
        "weekly_counts = top_level['day_of_week'].value_counts()\n",
        "\n",
        "# Упорядочивание дней недели\n",
        "weekly_counts = weekly_counts.reindex(['Monday', 'Tuesday', 'Wednesday', 'Thursday', 'Friday', 'Saturday', 'Sunday'])\n",
        "\n",
        "# Визуализация частоты сообщений по дням недели\n",
        "plt.figure(figsize=(8, 4))\n",
        "weekly_counts.plot(kind='bar', color='skyblue')\n",
        "plt.title('Частота сообщений по дням недели')\n",
        "plt.xlabel('День недели')\n",
        "plt.ylabel('Количество сообщений')\n",
        "plt.xticks(rotation=0)  # Угол меток\n",
        "plt.grid(axis='y')  # Сетка только по оси y\n",
        "plt.tight_layout()\n",
        "plt.show()\n"
      ]
    },
    {
      "cell_type": "markdown",
      "metadata": {
        "id": "PjIc4TnRXUeL"
      },
      "source": [
        "# Выводы\n",
        "\n",
        "В данном датасете 721 top-level инструкций на русском языке. Средняя длина инструкции 112 слов, минимум 3 слова, максимум 3714 слов. Все инструкции отрецензированы больше чем 3 рецензентами. Более 50% инструкций отмечены качественными. Только около 1% инструкций отмечены токсичными. Самые часто встречающиеся слова: 'напиши', 'какие', 'почему'. Чаще всего инструкции создавались на выходных, а также в феврале 2023."
      ]
    }
  ],
  "metadata": {
    "colab": {
      "provenance": []
    },
    "kernelspec": {
      "display_name": "Python 3",
      "name": "python3"
    },
    "language_info": {
      "codemirror_mode": {
        "name": "ipython",
        "version": 3
      },
      "file_extension": ".py",
      "mimetype": "text/x-python",
      "name": "python",
      "nbconvert_exporter": "python",
      "pygments_lexer": "ipython3",
      "version": "3.12.6"
    }
  },
  "nbformat": 4,
  "nbformat_minor": 0
}
